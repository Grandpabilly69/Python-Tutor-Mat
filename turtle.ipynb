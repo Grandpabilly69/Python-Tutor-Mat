{
 "cells": [
  {
   "cell_type": "code",
   "id": "initial_id",
   "metadata": {
    "collapsed": true,
    "ExecuteTime": {
     "end_time": "2024-10-25T13:26:17.363594Z",
     "start_time": "2024-10-25T13:26:17.310386Z"
    }
   },
   "source": "import test as draw\n",
   "outputs": [
    {
     "ename": "AttributeError",
     "evalue": "partially initialized module 'turtle' has no attribute 'pensize' (most likely due to a circular import)",
     "output_type": "error",
     "traceback": [
      "\u001B[1;31m---------------------------------------------------------------------------\u001B[0m",
      "\u001B[1;31mAttributeError\u001B[0m                            Traceback (most recent call last)",
      "Cell \u001B[1;32mIn[3], line 1\u001B[0m\n\u001B[1;32m----> 1\u001B[0m \u001B[38;5;28;01mimport\u001B[39;00m \u001B[38;5;21;01mturtle\u001B[39;00m \u001B[38;5;28;01mas\u001B[39;00m \u001B[38;5;21;01mdraw\u001B[39;00m\n",
      "File \u001B[1;32m~\\PycharmProjects\\ShakaIT\\turtle.py:6\u001B[0m\n\u001B[0;32m      3\u001B[0m \u001B[38;5;28;01mfrom\u001B[39;00m \u001B[38;5;21;01mturtle\u001B[39;00m \u001B[38;5;28;01mimport\u001B[39;00m \u001B[38;5;241m*\u001B[39m\n\u001B[0;32m      5\u001B[0m draw \u001B[38;5;241m=\u001B[39m turtle\n\u001B[1;32m----> 6\u001B[0m \u001B[43mdraw\u001B[49m\u001B[38;5;241;43m.\u001B[39;49m\u001B[43mpensize\u001B[49m(\u001B[38;5;241m5\u001B[39m)\n\u001B[0;32m      7\u001B[0m draw\u001B[38;5;241m.\u001B[39mpencolor(\u001B[38;5;124m\"\u001B[39m\u001B[38;5;124mred\u001B[39m\u001B[38;5;124m\"\u001B[39m)\n\u001B[0;32m      8\u001B[0m \u001B[38;5;28;01mfor\u001B[39;00m i \u001B[38;5;129;01min\u001B[39;00m \u001B[38;5;28mrange\u001B[39m(\u001B[38;5;241m4\u001B[39m):\n",
      "\u001B[1;31mAttributeError\u001B[0m: partially initialized module 'turtle' has no attribute 'pensize' (most likely due to a circular import)"
     ]
    }
   ],
   "execution_count": 3
  },
  {
   "metadata": {},
   "cell_type": "code",
   "outputs": [],
   "execution_count": null,
   "source": [
    "\n",
    "draw.pensize(5)\n",
    "draw.pencolor(\"red\")\n",
    "for i in range(4):\n",
    "    draw.forward(150)\n",
    "    draw.right(90)"
   ],
   "id": "166b37a63a4f3850"
  }
 ],
 "metadata": {
  "kernelspec": {
   "display_name": "Python 3",
   "language": "python",
   "name": "python3"
  },
  "language_info": {
   "codemirror_mode": {
    "name": "ipython",
    "version": 2
   },
   "file_extension": ".py",
   "mimetype": "text/x-python",
   "name": "python",
   "nbconvert_exporter": "python",
   "pygments_lexer": "ipython2",
   "version": "2.7.6"
  }
 },
 "nbformat": 4,
 "nbformat_minor": 5
}
